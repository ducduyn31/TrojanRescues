{
 "cells": [
  {
   "cell_type": "code",
   "execution_count": 5,
   "metadata": {},
   "outputs": [
    {
     "ename": "SyntaxError",
     "evalue": "(unicode error) 'unicodeescape' codec can't decode bytes in position 2-3: truncated \\UXXXXXXXX escape (<ipython-input-5-601a3cd9e1ee>, line 4)",
     "output_type": "error",
     "traceback": [
      "\u001b[1;36m  File \u001b[1;32m\"<ipython-input-5-601a3cd9e1ee>\"\u001b[1;36m, line \u001b[1;32m4\u001b[0m\n\u001b[1;33m    DRIVER_PATH = \"C:\\Users\\baotr\\scraping\\chromedriver\"\u001b[0m\n\u001b[1;37m                 ^\u001b[0m\n\u001b[1;31mSyntaxError\u001b[0m\u001b[1;31m:\u001b[0m (unicode error) 'unicodeescape' codec can't decode bytes in position 2-3: truncated \\UXXXXXXXX escape\n"
     ]
    }
   ],
   "source": [
    "import selenium# This is the path I use\n",
    "# DRIVER_PATH = '.../Desktop/Scraping/chromedriver 2'# Put the path for your ChromeDriver here\n",
    "\n",
    "DRIVER_PATH = \"C:\\Users\\baotr\\scraping\\chromedriver\"\n",
    "wd = webdriver.Chrome(executable_path=DRIVER_PATH)"
   ]
  },
  {
   "cell_type": "code",
   "execution_count": null,
   "metadata": {},
   "outputs": [],
   "source": [
    "from bs4 import BeautifulSoup\n",
    "import requests\n",
    "import re\n",
    "import urllib2\n",
    "import os\n",
    "import argparse\n",
    "import sys\n",
    "import json\n",
    "\n",
    "# adapted from http://stackoverflow.com/questions/20716842/python-download-images-from-google-image-search\n",
    "\n",
    "def get_soup(url,header):\n",
    "    return BeautifulSoup(urllib2.urlopen(urllib2.Request(url,headers=header)),'html.parser')\n",
    "\n",
    "def main(args):\n",
    "\tparser = argparse.ArgumentParser(description='Scrape Google images')\n",
    "\tparser.add_argument('-s', '--search', default='bananas', type=str, help='search term')\n",
    "\tparser.add_argument('-n', '--num_images', default=10, type=int, help='num images to save')\n",
    "\tparser.add_argument('-d', '--directory', default='/Users/gene/Downloads/', type=str, help='save directory')\n",
    "\targs = parser.parse_args()\n",
    "\tquery = args.search#raw_input(args.search)\n",
    "\tmax_images = args.num_images\n",
    "\tsave_directory = args.directory\n",
    "\timage_type=\"Action\"\n",
    "\tquery= query.split()\n",
    "\tquery='+'.join(query)\n",
    "\turl=\"https://www.google.co.in/search?q=\"+query+\"&source=lnms&tbm=isch\"\n",
    "\theader={'User-Agent':\"Mozilla/5.0 (Windows NT 6.1; WOW64) AppleWebKit/537.36 (KHTML, like Gecko) Chrome/43.0.2357.134 Safari/537.36\"}\n",
    "\tsoup = get_soup(url,header)\n",
    "\tActualImages=[]# contains the link for Large original images, type of  image\n",
    "\tfor a in soup.find_all(\"div\",{\"class\":\"rg_meta\"}):\n",
    "\t    link , Type =json.loads(a.text)[\"ou\"]  ,json.loads(a.text)[\"ity\"]\n",
    "\t    ActualImages.append((link,Type))\n",
    "\tfor i , (img , Type) in enumerate( ActualImages[0:max_images]):\n",
    "\t    try:\n",
    "\t        req = urllib2.Request(img, headers={'User-Agent' : header})\n",
    "\t        raw_img = urllib2.urlopen(req).read()\n",
    "\t        if len(Type)==0:\n",
    "\t            f = open(os.path.join(save_directory , \"img\" + \"_\"+ str(i)+\".jpg\"), 'wb')\n",
    "\t        else :\n",
    "\t            f = open(os.path.join(save_directory , \"img\" + \"_\"+ str(i)+\".\"+Type), 'wb')\n",
    "\t        f.write(raw_img)\n",
    "\t        f.close()\n",
    "\t    except Exception as e:\n",
    "\t        print \"could not load : \"+img\n",
    "\t        print e\n",
    "\n",
    "if __name__ == '__main__':\n",
    "    from sys import argv\n",
    "    try:\n",
    "        main(argv)\n",
    "    except KeyboardInterrupt:\n",
    "        pass\n",
    "    sys.exit()"
   ]
  }
 ],
 "metadata": {
  "kernelspec": {
   "display_name": "Python 3",
   "language": "python",
   "name": "python3"
  },
  "language_info": {
   "codemirror_mode": {
    "name": "ipython",
    "version": 3
   },
   "file_extension": ".py",
   "mimetype": "text/x-python",
   "name": "python",
   "nbconvert_exporter": "python",
   "pygments_lexer": "ipython3",
   "version": "3.6.6"
  }
 },
 "nbformat": 4,
 "nbformat_minor": 2
}
